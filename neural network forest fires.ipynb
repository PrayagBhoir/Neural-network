{
 "cells": [
  {
   "cell_type": "markdown",
   "id": "d2a1f0c8",
   "metadata": {},
   "source": [
    "# PREDICT THE BURNED AREA OF FOREST FIRES WITH NEURAL NETWORKS"
   ]
  },
  {
   "cell_type": "code",
   "execution_count": 1,
   "id": "81fa0c29",
   "metadata": {},
   "outputs": [],
   "source": [
    "import pandas as pd\n",
    "import numpy as np\n",
    "from sklearn.model_selection import train_test_split, cross_val_score\n",
    "import seaborn as sns\n",
    "from matplotlib import pyplot as plt\n",
    "%matplotlib inline\n",
    "from sklearn.decomposition import PCA\n",
    "import tensorflow as tf\n",
    "tf.debugging.set_log_device_placement(False) \n",
    "import warnings\n",
    "warnings.filterwarnings('ignore')"
   ]
  },
  {
   "cell_type": "code",
   "execution_count": 2,
   "id": "9b09107a",
   "metadata": {},
   "outputs": [],
   "source": [
    "tf.random.set_seed(14) "
   ]
  },
  {
   "cell_type": "code",
   "execution_count": 3,
   "id": "6a4eabb8",
   "metadata": {},
   "outputs": [
    {
     "data": {
      "text/html": [
       "<div>\n",
       "<style scoped>\n",
       "    .dataframe tbody tr th:only-of-type {\n",
       "        vertical-align: middle;\n",
       "    }\n",
       "\n",
       "    .dataframe tbody tr th {\n",
       "        vertical-align: top;\n",
       "    }\n",
       "\n",
       "    .dataframe thead th {\n",
       "        text-align: right;\n",
       "    }\n",
       "</style>\n",
       "<table border=\"1\" class=\"dataframe\">\n",
       "  <thead>\n",
       "    <tr style=\"text-align: right;\">\n",
       "      <th></th>\n",
       "      <th>month</th>\n",
       "      <th>day</th>\n",
       "      <th>FFMC</th>\n",
       "      <th>DMC</th>\n",
       "      <th>DC</th>\n",
       "      <th>ISI</th>\n",
       "      <th>temp</th>\n",
       "      <th>RH</th>\n",
       "      <th>wind</th>\n",
       "      <th>rain</th>\n",
       "      <th>...</th>\n",
       "      <th>monthfeb</th>\n",
       "      <th>monthjan</th>\n",
       "      <th>monthjul</th>\n",
       "      <th>monthjun</th>\n",
       "      <th>monthmar</th>\n",
       "      <th>monthmay</th>\n",
       "      <th>monthnov</th>\n",
       "      <th>monthoct</th>\n",
       "      <th>monthsep</th>\n",
       "      <th>size_category</th>\n",
       "    </tr>\n",
       "  </thead>\n",
       "  <tbody>\n",
       "    <tr>\n",
       "      <th>0</th>\n",
       "      <td>mar</td>\n",
       "      <td>fri</td>\n",
       "      <td>86.2</td>\n",
       "      <td>26.2</td>\n",
       "      <td>94.3</td>\n",
       "      <td>5.1</td>\n",
       "      <td>8.2</td>\n",
       "      <td>51</td>\n",
       "      <td>6.7</td>\n",
       "      <td>0.0</td>\n",
       "      <td>...</td>\n",
       "      <td>0</td>\n",
       "      <td>0</td>\n",
       "      <td>0</td>\n",
       "      <td>0</td>\n",
       "      <td>1</td>\n",
       "      <td>0</td>\n",
       "      <td>0</td>\n",
       "      <td>0</td>\n",
       "      <td>0</td>\n",
       "      <td>small</td>\n",
       "    </tr>\n",
       "    <tr>\n",
       "      <th>1</th>\n",
       "      <td>oct</td>\n",
       "      <td>tue</td>\n",
       "      <td>90.6</td>\n",
       "      <td>35.4</td>\n",
       "      <td>669.1</td>\n",
       "      <td>6.7</td>\n",
       "      <td>18.0</td>\n",
       "      <td>33</td>\n",
       "      <td>0.9</td>\n",
       "      <td>0.0</td>\n",
       "      <td>...</td>\n",
       "      <td>0</td>\n",
       "      <td>0</td>\n",
       "      <td>0</td>\n",
       "      <td>0</td>\n",
       "      <td>0</td>\n",
       "      <td>0</td>\n",
       "      <td>0</td>\n",
       "      <td>1</td>\n",
       "      <td>0</td>\n",
       "      <td>small</td>\n",
       "    </tr>\n",
       "    <tr>\n",
       "      <th>2</th>\n",
       "      <td>oct</td>\n",
       "      <td>sat</td>\n",
       "      <td>90.6</td>\n",
       "      <td>43.7</td>\n",
       "      <td>686.9</td>\n",
       "      <td>6.7</td>\n",
       "      <td>14.6</td>\n",
       "      <td>33</td>\n",
       "      <td>1.3</td>\n",
       "      <td>0.0</td>\n",
       "      <td>...</td>\n",
       "      <td>0</td>\n",
       "      <td>0</td>\n",
       "      <td>0</td>\n",
       "      <td>0</td>\n",
       "      <td>0</td>\n",
       "      <td>0</td>\n",
       "      <td>0</td>\n",
       "      <td>1</td>\n",
       "      <td>0</td>\n",
       "      <td>small</td>\n",
       "    </tr>\n",
       "    <tr>\n",
       "      <th>3</th>\n",
       "      <td>mar</td>\n",
       "      <td>fri</td>\n",
       "      <td>91.7</td>\n",
       "      <td>33.3</td>\n",
       "      <td>77.5</td>\n",
       "      <td>9.0</td>\n",
       "      <td>8.3</td>\n",
       "      <td>97</td>\n",
       "      <td>4.0</td>\n",
       "      <td>0.2</td>\n",
       "      <td>...</td>\n",
       "      <td>0</td>\n",
       "      <td>0</td>\n",
       "      <td>0</td>\n",
       "      <td>0</td>\n",
       "      <td>1</td>\n",
       "      <td>0</td>\n",
       "      <td>0</td>\n",
       "      <td>0</td>\n",
       "      <td>0</td>\n",
       "      <td>small</td>\n",
       "    </tr>\n",
       "    <tr>\n",
       "      <th>4</th>\n",
       "      <td>mar</td>\n",
       "      <td>sun</td>\n",
       "      <td>89.3</td>\n",
       "      <td>51.3</td>\n",
       "      <td>102.2</td>\n",
       "      <td>9.6</td>\n",
       "      <td>11.4</td>\n",
       "      <td>99</td>\n",
       "      <td>1.8</td>\n",
       "      <td>0.0</td>\n",
       "      <td>...</td>\n",
       "      <td>0</td>\n",
       "      <td>0</td>\n",
       "      <td>0</td>\n",
       "      <td>0</td>\n",
       "      <td>1</td>\n",
       "      <td>0</td>\n",
       "      <td>0</td>\n",
       "      <td>0</td>\n",
       "      <td>0</td>\n",
       "      <td>small</td>\n",
       "    </tr>\n",
       "  </tbody>\n",
       "</table>\n",
       "<p>5 rows × 31 columns</p>\n",
       "</div>"
      ],
      "text/plain": [
       "  month  day  FFMC   DMC     DC  ISI  temp  RH  wind  rain  ...  monthfeb  \\\n",
       "0   mar  fri  86.2  26.2   94.3  5.1   8.2  51   6.7   0.0  ...         0   \n",
       "1   oct  tue  90.6  35.4  669.1  6.7  18.0  33   0.9   0.0  ...         0   \n",
       "2   oct  sat  90.6  43.7  686.9  6.7  14.6  33   1.3   0.0  ...         0   \n",
       "3   mar  fri  91.7  33.3   77.5  9.0   8.3  97   4.0   0.2  ...         0   \n",
       "4   mar  sun  89.3  51.3  102.2  9.6  11.4  99   1.8   0.0  ...         0   \n",
       "\n",
       "   monthjan  monthjul  monthjun  monthmar  monthmay  monthnov  monthoct  \\\n",
       "0         0         0         0         1         0         0         0   \n",
       "1         0         0         0         0         0         0         1   \n",
       "2         0         0         0         0         0         0         1   \n",
       "3         0         0         0         1         0         0         0   \n",
       "4         0         0         0         1         0         0         0   \n",
       "\n",
       "   monthsep  size_category  \n",
       "0         0          small  \n",
       "1         0          small  \n",
       "2         0          small  \n",
       "3         0          small  \n",
       "4         0          small  \n",
       "\n",
       "[5 rows x 31 columns]"
      ]
     },
     "execution_count": 3,
     "metadata": {},
     "output_type": "execute_result"
    }
   ],
   "source": [
    "forest=pd.read_csv('G:\\\\Assignments\\\\neural network\\\\forestfires.csv')\n",
    "forest.head()"
   ]
  },
  {
   "cell_type": "code",
   "execution_count": 4,
   "id": "a79ab830",
   "metadata": {},
   "outputs": [],
   "source": [
    "df = forest.copy() #Removing the dummies at this time\n",
    "df.drop(df.columns[11:30],axis=1,inplace = True)"
   ]
  },
  {
   "cell_type": "code",
   "execution_count": 5,
   "id": "3ef2a41d",
   "metadata": {},
   "outputs": [
    {
     "data": {
      "text/plain": [
       "(517, 12)"
      ]
     },
     "execution_count": 5,
     "metadata": {},
     "output_type": "execute_result"
    }
   ],
   "source": [
    "df.shape"
   ]
  },
  {
   "cell_type": "code",
   "execution_count": 6,
   "id": "dedd1707",
   "metadata": {},
   "outputs": [
    {
     "name": "stdout",
     "output_type": "stream",
     "text": [
      "<class 'pandas.core.frame.DataFrame'>\n",
      "RangeIndex: 517 entries, 0 to 516\n",
      "Data columns (total 12 columns):\n",
      " #   Column         Non-Null Count  Dtype  \n",
      "---  ------         --------------  -----  \n",
      " 0   month          517 non-null    object \n",
      " 1   day            517 non-null    object \n",
      " 2   FFMC           517 non-null    float64\n",
      " 3   DMC            517 non-null    float64\n",
      " 4   DC             517 non-null    float64\n",
      " 5   ISI            517 non-null    float64\n",
      " 6   temp           517 non-null    float64\n",
      " 7   RH             517 non-null    int64  \n",
      " 8   wind           517 non-null    float64\n",
      " 9   rain           517 non-null    float64\n",
      " 10  area           517 non-null    float64\n",
      " 11  size_category  517 non-null    object \n",
      "dtypes: float64(8), int64(1), object(3)\n",
      "memory usage: 48.6+ KB\n"
     ]
    }
   ],
   "source": [
    "df.info()"
   ]
  },
  {
   "cell_type": "code",
   "execution_count": 7,
   "id": "8bd50c5f",
   "metadata": {},
   "outputs": [
    {
     "data": {
      "text/plain": [
       "Index(['month', 'day', 'FFMC', 'DMC', 'DC', 'ISI', 'temp', 'RH', 'wind',\n",
       "       'rain', 'area', 'size_category'],\n",
       "      dtype='object')"
      ]
     },
     "execution_count": 7,
     "metadata": {},
     "output_type": "execute_result"
    }
   ],
   "source": [
    "df.columns"
   ]
  },
  {
   "cell_type": "code",
   "execution_count": 8,
   "id": "26f6a74c",
   "metadata": {},
   "outputs": [
    {
     "name": "stdout",
     "output_type": "stream",
     "text": [
      "<class 'pandas.core.frame.DataFrame'>\n",
      "RangeIndex: 517 entries, 0 to 516\n",
      "Data columns (total 12 columns):\n",
      " #   Column         Non-Null Count  Dtype  \n",
      "---  ------         --------------  -----  \n",
      " 0   month          517 non-null    object \n",
      " 1   day            517 non-null    object \n",
      " 2   FFMC           517 non-null    float64\n",
      " 3   DMC            517 non-null    float64\n",
      " 4   DC             517 non-null    float64\n",
      " 5   ISI            517 non-null    float64\n",
      " 6   temp           517 non-null    float64\n",
      " 7   RH             517 non-null    int64  \n",
      " 8   wind           517 non-null    float64\n",
      " 9   rain           517 non-null    float64\n",
      " 10  area           517 non-null    float64\n",
      " 11  size_category  517 non-null    object \n",
      "dtypes: float64(8), int64(1), object(3)\n",
      "memory usage: 48.6+ KB\n"
     ]
    }
   ],
   "source": [
    "df.info()"
   ]
  },
  {
   "cell_type": "code",
   "execution_count": 9,
   "id": "0e611d85",
   "metadata": {},
   "outputs": [
    {
     "data": {
      "text/plain": [
       "month            0\n",
       "day              0\n",
       "FFMC             0\n",
       "DMC              0\n",
       "DC               0\n",
       "ISI              0\n",
       "temp             0\n",
       "RH               0\n",
       "wind             0\n",
       "rain             0\n",
       "area             0\n",
       "size_category    0\n",
       "dtype: int64"
      ]
     },
     "execution_count": 9,
     "metadata": {},
     "output_type": "execute_result"
    }
   ],
   "source": [
    "df.isnull().sum()"
   ]
  },
  {
   "cell_type": "markdown",
   "id": "3dfd4830",
   "metadata": {},
   "source": [
    "# Feature Analysis"
   ]
  },
  {
   "cell_type": "code",
   "execution_count": 10,
   "id": "382d8410",
   "metadata": {},
   "outputs": [
    {
     "data": {
      "text/plain": [
       "aug    184\n",
       "sep    172\n",
       "mar     54\n",
       "jul     32\n",
       "feb     20\n",
       "jun     17\n",
       "oct     15\n",
       "apr      9\n",
       "dec      9\n",
       "jan      2\n",
       "may      2\n",
       "nov      1\n",
       "Name: month, dtype: int64"
      ]
     },
     "execution_count": 10,
     "metadata": {},
     "output_type": "execute_result"
    }
   ],
   "source": [
    "df.month.value_counts()"
   ]
  },
  {
   "cell_type": "code",
   "execution_count": 11,
   "id": "0c4503a7",
   "metadata": {},
   "outputs": [
    {
     "data": {
      "text/plain": [
       "small    378\n",
       "large    139\n",
       "Name: size_category, dtype: int64"
      ]
     },
     "execution_count": 11,
     "metadata": {},
     "output_type": "execute_result"
    }
   ],
   "source": [
    "df.size_category.value_counts() "
   ]
  },
  {
   "cell_type": "markdown",
   "id": "99a96448",
   "metadata": {},
   "source": [
    "# label encoding"
   ]
  },
  {
   "cell_type": "code",
   "execution_count": 12,
   "id": "dd79ffe6",
   "metadata": {},
   "outputs": [
    {
     "data": {
      "text/html": [
       "<div>\n",
       "<style scoped>\n",
       "    .dataframe tbody tr th:only-of-type {\n",
       "        vertical-align: middle;\n",
       "    }\n",
       "\n",
       "    .dataframe tbody tr th {\n",
       "        vertical-align: top;\n",
       "    }\n",
       "\n",
       "    .dataframe thead th {\n",
       "        text-align: right;\n",
       "    }\n",
       "</style>\n",
       "<table border=\"1\" class=\"dataframe\">\n",
       "  <thead>\n",
       "    <tr style=\"text-align: right;\">\n",
       "      <th></th>\n",
       "      <th>month</th>\n",
       "      <th>day</th>\n",
       "      <th>FFMC</th>\n",
       "      <th>DMC</th>\n",
       "      <th>DC</th>\n",
       "      <th>ISI</th>\n",
       "      <th>temp</th>\n",
       "      <th>RH</th>\n",
       "      <th>wind</th>\n",
       "      <th>rain</th>\n",
       "      <th>area</th>\n",
       "      <th>size_category</th>\n",
       "    </tr>\n",
       "  </thead>\n",
       "  <tbody>\n",
       "    <tr>\n",
       "      <th>0</th>\n",
       "      <td>7</td>\n",
       "      <td>0</td>\n",
       "      <td>86.2</td>\n",
       "      <td>26.2</td>\n",
       "      <td>94.3</td>\n",
       "      <td>5.1</td>\n",
       "      <td>8.2</td>\n",
       "      <td>51</td>\n",
       "      <td>6.7</td>\n",
       "      <td>0.0</td>\n",
       "      <td>0.0</td>\n",
       "      <td>1</td>\n",
       "    </tr>\n",
       "    <tr>\n",
       "      <th>1</th>\n",
       "      <td>10</td>\n",
       "      <td>5</td>\n",
       "      <td>90.6</td>\n",
       "      <td>35.4</td>\n",
       "      <td>669.1</td>\n",
       "      <td>6.7</td>\n",
       "      <td>18.0</td>\n",
       "      <td>33</td>\n",
       "      <td>0.9</td>\n",
       "      <td>0.0</td>\n",
       "      <td>0.0</td>\n",
       "      <td>1</td>\n",
       "    </tr>\n",
       "    <tr>\n",
       "      <th>2</th>\n",
       "      <td>10</td>\n",
       "      <td>2</td>\n",
       "      <td>90.6</td>\n",
       "      <td>43.7</td>\n",
       "      <td>686.9</td>\n",
       "      <td>6.7</td>\n",
       "      <td>14.6</td>\n",
       "      <td>33</td>\n",
       "      <td>1.3</td>\n",
       "      <td>0.0</td>\n",
       "      <td>0.0</td>\n",
       "      <td>1</td>\n",
       "    </tr>\n",
       "    <tr>\n",
       "      <th>3</th>\n",
       "      <td>7</td>\n",
       "      <td>0</td>\n",
       "      <td>91.7</td>\n",
       "      <td>33.3</td>\n",
       "      <td>77.5</td>\n",
       "      <td>9.0</td>\n",
       "      <td>8.3</td>\n",
       "      <td>97</td>\n",
       "      <td>4.0</td>\n",
       "      <td>0.2</td>\n",
       "      <td>0.0</td>\n",
       "      <td>1</td>\n",
       "    </tr>\n",
       "    <tr>\n",
       "      <th>4</th>\n",
       "      <td>7</td>\n",
       "      <td>3</td>\n",
       "      <td>89.3</td>\n",
       "      <td>51.3</td>\n",
       "      <td>102.2</td>\n",
       "      <td>9.6</td>\n",
       "      <td>11.4</td>\n",
       "      <td>99</td>\n",
       "      <td>1.8</td>\n",
       "      <td>0.0</td>\n",
       "      <td>0.0</td>\n",
       "      <td>1</td>\n",
       "    </tr>\n",
       "  </tbody>\n",
       "</table>\n",
       "</div>"
      ],
      "text/plain": [
       "   month  day  FFMC   DMC     DC  ISI  temp  RH  wind  rain  area  \\\n",
       "0      7    0  86.2  26.2   94.3  5.1   8.2  51   6.7   0.0   0.0   \n",
       "1     10    5  90.6  35.4  669.1  6.7  18.0  33   0.9   0.0   0.0   \n",
       "2     10    2  90.6  43.7  686.9  6.7  14.6  33   1.3   0.0   0.0   \n",
       "3      7    0  91.7  33.3   77.5  9.0   8.3  97   4.0   0.2   0.0   \n",
       "4      7    3  89.3  51.3  102.2  9.6  11.4  99   1.8   0.0   0.0   \n",
       "\n",
       "   size_category  \n",
       "0              1  \n",
       "1              1  \n",
       "2              1  \n",
       "3              1  \n",
       "4              1  "
      ]
     },
     "execution_count": 12,
     "metadata": {},
     "output_type": "execute_result"
    }
   ],
   "source": [
    "from sklearn import preprocessing\n",
    "label_encoder = preprocessing.LabelEncoder()\n",
    "df.month= label_encoder.fit_transform(df.month) \n",
    "df.day= label_encoder.fit_transform(df.day) \n",
    "df.size_category= label_encoder.fit_transform(df.size_category) \n",
    "df.head()"
   ]
  },
  {
   "cell_type": "markdown",
   "id": "9eeaaccc",
   "metadata": {},
   "source": [
    "# Removing Bias in the Dataset"
   ]
  },
  {
   "cell_type": "code",
   "execution_count": 13,
   "id": "8bab5b91",
   "metadata": {},
   "outputs": [
    {
     "name": "stdout",
     "output_type": "stream",
     "text": [
      "Counter({1: 378, 0: 139})\n",
      "Counter({1: 368, 0: 368})\n"
     ]
    }
   ],
   "source": [
    "from imblearn.combine import SMOTETomek\n",
    "from collections import Counter\n",
    "\n",
    "resamp = df.copy()\n",
    "#SMOTEK TECHNIQUE\n",
    "\n",
    "#Define dataset\n",
    "a = resamp.iloc[:,:-1]\n",
    "b = resamp.iloc[:,-1]\n",
    "\n",
    "#Count before\n",
    "print(Counter(b))\n",
    "\n",
    "smt = SMOTETomek(sampling_strategy = 'auto')\n",
    "a, b = smt.fit_resample(a, b)\n",
    "\n",
    "#Count after\n",
    "print(Counter(b))"
   ]
  },
  {
   "cell_type": "markdown",
   "id": "14928c26",
   "metadata": {},
   "source": [
    "# Train | Split dataset"
   ]
  },
  {
   "cell_type": "code",
   "execution_count": 14,
   "id": "bf0309b8",
   "metadata": {},
   "outputs": [],
   "source": [
    "X = a\n",
    "Y = b\n",
    "X_train, X_test, y_train, y_test = train_test_split(X,Y, test_size = 0.3)"
   ]
  },
  {
   "cell_type": "markdown",
   "id": "dfd8f17d",
   "metadata": {},
   "source": [
    "# Neural Network Modelling"
   ]
  },
  {
   "cell_type": "code",
   "execution_count": 15,
   "id": "ef9e292f",
   "metadata": {},
   "outputs": [],
   "source": [
    "import keras\n",
    "from keras.models import Sequential\n",
    "from keras.layers import Dense"
   ]
  },
  {
   "cell_type": "code",
   "execution_count": 16,
   "id": "e181b2cb",
   "metadata": {},
   "outputs": [
    {
     "name": "stdout",
     "output_type": "stream",
     "text": [
      "Epoch 1/50\n",
      "35/35 [==============================] - 3s 29ms/step - loss: 0.6907 - accuracy: 0.5014 - val_loss: 0.6892 - val_accuracy: 0.4588\n",
      "Epoch 2/50\n",
      "35/35 [==============================] - 0s 13ms/step - loss: 0.6758 - accuracy: 0.5681 - val_loss: 0.6852 - val_accuracy: 0.4588\n",
      "Epoch 3/50\n",
      "35/35 [==============================] - 0s 7ms/step - loss: 0.6523 - accuracy: 0.5797 - val_loss: 0.6288 - val_accuracy: 0.4941\n",
      "Epoch 4/50\n",
      "35/35 [==============================] - 0s 11ms/step - loss: 0.5822 - accuracy: 0.6899 - val_loss: 0.6039 - val_accuracy: 0.4882\n",
      "Epoch 5/50\n",
      "35/35 [==============================] - 0s 9ms/step - loss: 0.4992 - accuracy: 0.7913 - val_loss: 0.4162 - val_accuracy: 0.9588\n",
      "Epoch 6/50\n",
      "35/35 [==============================] - 0s 6ms/step - loss: 0.3660 - accuracy: 0.9072 - val_loss: 0.3840 - val_accuracy: 0.8176\n",
      "Epoch 7/50\n",
      "35/35 [==============================] - 0s 10ms/step - loss: 0.2881 - accuracy: 0.9159 - val_loss: 0.2254 - val_accuracy: 0.9824\n",
      "Epoch 8/50\n",
      "35/35 [==============================] - 0s 5ms/step - loss: 0.2160 - accuracy: 0.9478 - val_loss: 0.1444 - val_accuracy: 0.9765\n",
      "Epoch 9/50\n",
      "35/35 [==============================] - 0s 8ms/step - loss: 0.1492 - accuracy: 0.9652 - val_loss: 0.1062 - val_accuracy: 0.9941\n",
      "Epoch 10/50\n",
      "35/35 [==============================] - 0s 10ms/step - loss: 0.1935 - accuracy: 0.9159 - val_loss: 0.1019 - val_accuracy: 0.9706\n",
      "Epoch 11/50\n",
      "35/35 [==============================] - 0s 6ms/step - loss: 0.1019 - accuracy: 0.9739 - val_loss: 0.0795 - val_accuracy: 0.9824\n",
      "Epoch 12/50\n",
      "35/35 [==============================] - 0s 11ms/step - loss: 0.0821 - accuracy: 0.9797 - val_loss: 0.0696 - val_accuracy: 0.9941\n",
      "Epoch 13/50\n",
      "35/35 [==============================] - 0s 6ms/step - loss: 0.0762 - accuracy: 0.9739 - val_loss: 0.0851 - val_accuracy: 0.9647\n",
      "Epoch 14/50\n",
      "35/35 [==============================] - 1s 16ms/step - loss: 0.0769 - accuracy: 0.9710 - val_loss: 0.0489 - val_accuracy: 0.9882\n",
      "Epoch 15/50\n",
      "35/35 [==============================] - 0s 10ms/step - loss: 0.0585 - accuracy: 0.9884 - val_loss: 0.0439 - val_accuracy: 0.9882\n",
      "Epoch 16/50\n",
      "35/35 [==============================] - 0s 12ms/step - loss: 0.0545 - accuracy: 0.9855 - val_loss: 0.0652 - val_accuracy: 0.9824\n",
      "Epoch 17/50\n",
      "35/35 [==============================] - 0s 12ms/step - loss: 0.0812 - accuracy: 0.9681 - val_loss: 0.0594 - val_accuracy: 0.9765\n",
      "Epoch 18/50\n",
      "35/35 [==============================] - 1s 15ms/step - loss: 0.0809 - accuracy: 0.9565 - val_loss: 0.0608 - val_accuracy: 0.9706\n",
      "Epoch 19/50\n",
      "35/35 [==============================] - 0s 12ms/step - loss: 0.0595 - accuracy: 0.9768 - val_loss: 0.0671 - val_accuracy: 0.9765\n",
      "Epoch 20/50\n",
      "35/35 [==============================] - 1s 14ms/step - loss: 0.0662 - accuracy: 0.9681 - val_loss: 0.0314 - val_accuracy: 0.9882\n",
      "Epoch 21/50\n",
      "35/35 [==============================] - 1s 17ms/step - loss: 0.0436 - accuracy: 0.9913 - val_loss: 0.0478 - val_accuracy: 0.9824\n",
      "Epoch 22/50\n",
      "35/35 [==============================] - 0s 13ms/step - loss: 0.0996 - accuracy: 0.9536 - val_loss: 0.1542 - val_accuracy: 0.9353\n",
      "Epoch 23/50\n",
      "35/35 [==============================] - 1s 17ms/step - loss: 0.0988 - accuracy: 0.9681 - val_loss: 0.0294 - val_accuracy: 0.9941\n",
      "Epoch 24/50\n",
      "35/35 [==============================] - 0s 9ms/step - loss: 0.0385 - accuracy: 0.9855 - val_loss: 0.0265 - val_accuracy: 0.9941\n",
      "Epoch 25/50\n",
      "35/35 [==============================] - 1s 18ms/step - loss: 0.0665 - accuracy: 0.9710 - val_loss: 0.0488 - val_accuracy: 0.9824\n",
      "Epoch 26/50\n",
      "35/35 [==============================] - 0s 13ms/step - loss: 0.0491 - accuracy: 0.9826 - val_loss: 0.0793 - val_accuracy: 0.9588\n",
      "Epoch 27/50\n",
      "35/35 [==============================] - 1s 18ms/step - loss: 0.0505 - accuracy: 0.9797 - val_loss: 0.0471 - val_accuracy: 0.9824\n",
      "Epoch 28/50\n",
      "35/35 [==============================] - 1s 26ms/step - loss: 0.0457 - accuracy: 0.9797 - val_loss: 0.0239 - val_accuracy: 0.9941\n",
      "Epoch 29/50\n",
      "35/35 [==============================] - 0s 9ms/step - loss: 0.0352 - accuracy: 0.9913 - val_loss: 0.0232 - val_accuracy: 0.9882\n",
      "Epoch 30/50\n",
      "35/35 [==============================] - 0s 9ms/step - loss: 0.0384 - accuracy: 0.9884 - val_loss: 0.0252 - val_accuracy: 0.9941\n",
      "Epoch 31/50\n",
      "35/35 [==============================] - 0s 5ms/step - loss: 0.0357 - accuracy: 0.9884 - val_loss: 0.0321 - val_accuracy: 0.9882\n",
      "Epoch 32/50\n",
      "35/35 [==============================] - 0s 12ms/step - loss: 0.0469 - accuracy: 0.9797 - val_loss: 0.0216 - val_accuracy: 0.9941\n",
      "Epoch 33/50\n",
      "35/35 [==============================] - 0s 6ms/step - loss: 0.0323 - accuracy: 0.9884 - val_loss: 0.0341 - val_accuracy: 0.9882\n",
      "Epoch 34/50\n",
      "35/35 [==============================] - 0s 8ms/step - loss: 0.0267 - accuracy: 0.9942 - val_loss: 0.0388 - val_accuracy: 0.9824\n",
      "Epoch 35/50\n",
      "35/35 [==============================] - 0s 7ms/step - loss: 0.0299 - accuracy: 0.9913 - val_loss: 0.0199 - val_accuracy: 0.9941\n",
      "Epoch 36/50\n",
      "35/35 [==============================] - 0s 7ms/step - loss: 0.0325 - accuracy: 0.9855 - val_loss: 0.0267 - val_accuracy: 0.9882\n",
      "Epoch 37/50\n",
      "35/35 [==============================] - 0s 12ms/step - loss: 0.0348 - accuracy: 0.9884 - val_loss: 0.0339 - val_accuracy: 0.9824\n",
      "Epoch 38/50\n",
      "35/35 [==============================] - 0s 9ms/step - loss: 0.0278 - accuracy: 0.9942 - val_loss: 0.0211 - val_accuracy: 0.9882\n",
      "Epoch 39/50\n",
      "35/35 [==============================] - 0s 10ms/step - loss: 0.0244 - accuracy: 0.9942 - val_loss: 0.0315 - val_accuracy: 0.9882\n",
      "Epoch 40/50\n",
      "35/35 [==============================] - 0s 10ms/step - loss: 0.0462 - accuracy: 0.9884 - val_loss: 0.0179 - val_accuracy: 0.9941\n",
      "Epoch 41/50\n",
      "35/35 [==============================] - 0s 7ms/step - loss: 0.0336 - accuracy: 0.9913 - val_loss: 0.0225 - val_accuracy: 0.9941\n",
      "Epoch 42/50\n",
      "35/35 [==============================] - 0s 8ms/step - loss: 0.0360 - accuracy: 0.9855 - val_loss: 0.0296 - val_accuracy: 0.9824\n",
      "Epoch 43/50\n",
      "35/35 [==============================] - 0s 10ms/step - loss: 0.0255 - accuracy: 0.9913 - val_loss: 0.0269 - val_accuracy: 0.9882\n",
      "Epoch 44/50\n",
      "35/35 [==============================] - 0s 7ms/step - loss: 0.0402 - accuracy: 0.9826 - val_loss: 0.0235 - val_accuracy: 0.9941\n",
      "Epoch 45/50\n",
      "35/35 [==============================] - 0s 10ms/step - loss: 0.0335 - accuracy: 0.9855 - val_loss: 0.0222 - val_accuracy: 0.9941\n",
      "Epoch 46/50\n",
      "35/35 [==============================] - 0s 8ms/step - loss: 0.0298 - accuracy: 0.9884 - val_loss: 0.0695 - val_accuracy: 0.9765\n",
      "Epoch 47/50\n",
      "35/35 [==============================] - 0s 7ms/step - loss: 0.0661 - accuracy: 0.9681 - val_loss: 0.0218 - val_accuracy: 0.9941\n",
      "Epoch 48/50\n",
      "35/35 [==============================] - 0s 14ms/step - loss: 0.0352 - accuracy: 0.9913 - val_loss: 0.0990 - val_accuracy: 0.9647\n",
      "Epoch 49/50\n",
      "35/35 [==============================] - 0s 6ms/step - loss: 0.0318 - accuracy: 0.9884 - val_loss: 0.0175 - val_accuracy: 0.9941\n",
      "Epoch 50/50\n",
      "35/35 [==============================] - 0s 6ms/step - loss: 0.0187 - accuracy: 0.9942 - val_loss: 0.0198 - val_accuracy: 0.9941\n"
     ]
    }
   ],
   "source": [
    "model = Sequential()\n",
    "model.add(Dense(14, input_dim=11, kernel_initializer='uniform', activation='relu'))\n",
    "model.add(Dense(12,kernel_initializer='uniform', activation='relu'))\n",
    "model.add(Dense(1, kernel_initializer='uniform', activation='sigmoid'))\n",
    "# Compile model\n",
    "model.compile(loss='binary_crossentropy', optimizer='adam', metrics=['accuracy'])\n",
    "# Fit the model\n",
    "hist = model.fit(X_train, y_train, validation_split=0.33, epochs=50, batch_size=10)"
   ]
  },
  {
   "cell_type": "markdown",
   "id": "14a8ab98",
   "metadata": {},
   "source": [
    "# Model Evaluation"
   ]
  },
  {
   "cell_type": "code",
   "execution_count": 17,
   "id": "9b8d0eba",
   "metadata": {},
   "outputs": [
    {
     "name": "stdout",
     "output_type": "stream",
     "text": [
      "7/7 [==============================] - 1s 5ms/step - loss: 0.0201 - accuracy: 0.9910\n"
     ]
    }
   ],
   "source": [
    "test_loss, test_acc = model.evaluate(X_test, y_test)"
   ]
  },
  {
   "cell_type": "code",
   "execution_count": 18,
   "id": "42b540ed",
   "metadata": {},
   "outputs": [
    {
     "name": "stdout",
     "output_type": "stream",
     "text": [
      "dict_keys(['loss', 'accuracy', 'val_loss', 'val_accuracy'])\n"
     ]
    }
   ],
   "source": [
    "print(hist.history.keys())"
   ]
  },
  {
   "cell_type": "code",
   "execution_count": 19,
   "id": "1d30ecfd",
   "metadata": {},
   "outputs": [
    {
     "data": {
      "text/html": [
       "<div>\n",
       "<style scoped>\n",
       "    .dataframe tbody tr th:only-of-type {\n",
       "        vertical-align: middle;\n",
       "    }\n",
       "\n",
       "    .dataframe tbody tr th {\n",
       "        vertical-align: top;\n",
       "    }\n",
       "\n",
       "    .dataframe thead th {\n",
       "        text-align: right;\n",
       "    }\n",
       "</style>\n",
       "<table border=\"1\" class=\"dataframe\">\n",
       "  <thead>\n",
       "    <tr style=\"text-align: right;\">\n",
       "      <th></th>\n",
       "      <th>loss</th>\n",
       "      <th>accuracy</th>\n",
       "      <th>val_loss</th>\n",
       "      <th>val_accuracy</th>\n",
       "      <th>epoch</th>\n",
       "    </tr>\n",
       "  </thead>\n",
       "  <tbody>\n",
       "    <tr>\n",
       "      <th>45</th>\n",
       "      <td>0.029759</td>\n",
       "      <td>0.988406</td>\n",
       "      <td>0.069465</td>\n",
       "      <td>0.976471</td>\n",
       "      <td>45</td>\n",
       "    </tr>\n",
       "    <tr>\n",
       "      <th>46</th>\n",
       "      <td>0.066124</td>\n",
       "      <td>0.968116</td>\n",
       "      <td>0.021801</td>\n",
       "      <td>0.994118</td>\n",
       "      <td>46</td>\n",
       "    </tr>\n",
       "    <tr>\n",
       "      <th>47</th>\n",
       "      <td>0.035201</td>\n",
       "      <td>0.991304</td>\n",
       "      <td>0.098998</td>\n",
       "      <td>0.964706</td>\n",
       "      <td>47</td>\n",
       "    </tr>\n",
       "    <tr>\n",
       "      <th>48</th>\n",
       "      <td>0.031832</td>\n",
       "      <td>0.988406</td>\n",
       "      <td>0.017481</td>\n",
       "      <td>0.994118</td>\n",
       "      <td>48</td>\n",
       "    </tr>\n",
       "    <tr>\n",
       "      <th>49</th>\n",
       "      <td>0.018662</td>\n",
       "      <td>0.994203</td>\n",
       "      <td>0.019768</td>\n",
       "      <td>0.994118</td>\n",
       "      <td>49</td>\n",
       "    </tr>\n",
       "  </tbody>\n",
       "</table>\n",
       "</div>"
      ],
      "text/plain": [
       "        loss  accuracy  val_loss  val_accuracy  epoch\n",
       "45  0.029759  0.988406  0.069465      0.976471     45\n",
       "46  0.066124  0.968116  0.021801      0.994118     46\n",
       "47  0.035201  0.991304  0.098998      0.964706     47\n",
       "48  0.031832  0.988406  0.017481      0.994118     48\n",
       "49  0.018662  0.994203  0.019768      0.994118     49"
      ]
     },
     "execution_count": 19,
     "metadata": {},
     "output_type": "execute_result"
    }
   ],
   "source": [
    "hist_df = pd.DataFrame(hist.history)\n",
    "hist_df[\"epoch\"]=hist.epoch\n",
    "hist_df.tail()"
   ]
  },
  {
   "cell_type": "markdown",
   "id": "75a2bc5e",
   "metadata": {},
   "source": [
    "# Visualize Training History"
   ]
  },
  {
   "cell_type": "code",
   "execution_count": 20,
   "id": "cacea1b7",
   "metadata": {},
   "outputs": [
    {
     "data": {
      "image/png": "[encoded data removed]",
      "text/plain": [
       "<Figure size 640x480 with 1 Axes>"
      ]
     },
     "metadata": {},
     "output_type": "display_data"
    }
   ],
   "source": [
    "plt.plot(hist.history['accuracy'])\n",
    "plt.plot(hist.history['val_accuracy'])\n",
    "plt.title('model accuracy')\n",
    "plt.ylabel('accuracy')\n",
    "plt.xlabel('epoch')\n",
    "plt.legend(['train', 'test'], loc='upper left')\n",
    "plt.show()"
   ]
  },
  {
   "cell_type": "code",
   "execution_count": 21,
   "id": "6538d67c",
   "metadata": {},
   "outputs": [
    {
     "data": {
      "text/plain": [
       "<matplotlib.legend.Legend at 0x2090f748e20>"
      ]
     },
     "execution_count": 21,
     "metadata": {},
     "output_type": "execute_result"
    },
    {
     "data": {
      "image/png": "[encoded data removed]",
      "text/plain": [
       "<Figure size 640x480 with 1 Axes>"
      ]
     },
     "metadata": {},
     "output_type": "display_data"
    }
   ],
   "source": [
    "plt.plot(hist.history['loss'])\n",
    "plt.plot(hist.history['val_loss'])\n",
    "plt.title('model loss')\n",
    "plt.ylabel('loss')\n",
    "plt.xlabel('epoch')\n",
    "plt.legend(['train', 'test'], loc='upper left')\n"
   ]
  },
  {
   "cell_type": "markdown",
   "id": "d6808bd9",
   "metadata": {},
   "source": [
    "# Tuning of Hyperparameters :- Batch Size and Epochs"
   ]
  },
  {
   "cell_type": "code",
   "execution_count": 22,
   "id": "335e692f",
   "metadata": {},
   "outputs": [],
   "source": [
    "from sklearn.model_selection import GridSearchCV, KFold\n",
    "from keras.models import Sequential\n",
    "from keras.layers import Dense\n",
    "from keras.wrappers.scikit_learn import KerasClassifier\n",
    "from keras.optimizers import Adam"
   ]
  },
  {
   "cell_type": "code",
   "execution_count": 23,
   "id": "3c9a5b97",
   "metadata": {},
   "outputs": [],
   "source": [
    "def create_model():\n",
    "    model = Sequential()\n",
    "    model.add(Dense(12, input_dim=8, kernel_initializer='uniform', activation='relu'))\n",
    "    model.add(Dense(8, kernel_initializer='uniform', activation='relu'))\n",
    "    model.add(Dense(1, kernel_initializer='uniform', activation='sigmoid'))\n",
    "    \n",
    "    adam=Adam(lr=0.01)\n",
    "    model.compile(loss='binary_crossentropy', optimizer=adam, metrics=['accuracy'])\n",
    "    return model"
   ]
  },
  {
   "cell_type": "code",
   "execution_count": 24,
   "id": "5174ff9a",
   "metadata": {},
   "outputs": [],
   "source": [
    "from sklearn.preprocessing import StandardScaler\n",
    "a = StandardScaler()\n",
    "a.fit(X)\n",
    "X_standardized = a.transform(X)"
   ]
  },
  {
   "cell_type": "markdown",
   "id": "bd83baba",
   "metadata": {},
   "source": [
    "# Tuning of Hyperparameters:- Learning rate and Drop out rate"
   ]
  },
  {
   "cell_type": "code",
   "execution_count": 25,
   "id": "f03123d9",
   "metadata": {},
   "outputs": [
    {
     "name": "stdout",
     "output_type": "stream",
     "text": [
      "Fitting 5 folds for each of 9 candidates, totalling 45 fits\n",
      "[CV 1/5; 1/9] START dropout_rate=0.0, learning_rate=0.001.......................\n",
      "[CV 1/5; 1/9] END dropout_rate=0.0, learning_rate=0.001;, score=0.993 total time=  11.2s\n",
      "[CV 2/5; 1/9] START dropout_rate=0.0, learning_rate=0.001.......................\n",
      "[CV 2/5; 1/9] END dropout_rate=0.0, learning_rate=0.001;, score=0.993 total time=   9.1s\n",
      "[CV 3/5; 1/9] START dropout_rate=0.0, learning_rate=0.001.......................\n",
      "[CV 3/5; 1/9] END dropout_rate=0.0, learning_rate=0.001;, score=0.952 total time=   9.1s\n",
      "[CV 4/5; 1/9] START dropout_rate=0.0, learning_rate=0.001.......................\n",
      "[CV 4/5; 1/9] END dropout_rate=0.0, learning_rate=0.001;, score=0.959 total time=   9.7s\n",
      "[CV 5/5; 1/9] START dropout_rate=0.0, learning_rate=0.001.......................\n",
      "[CV 5/5; 1/9] END dropout_rate=0.0, learning_rate=0.001;, score=1.000 total time=   8.2s\n",
      "[CV 1/5; 2/9] START dropout_rate=0.0, learning_rate=0.01........................\n",
      "[CV 1/5; 2/9] END dropout_rate=0.0, learning_rate=0.01;, score=0.993 total time=   9.8s\n",
      "[CV 2/5; 2/9] START dropout_rate=0.0, learning_rate=0.01........................\n",
      "[CV 2/5; 2/9] END dropout_rate=0.0, learning_rate=0.01;, score=0.952 total time=   8.1s\n",
      "[CV 3/5; 2/9] START dropout_rate=0.0, learning_rate=0.01........................\n",
      "[CV 3/5; 2/9] END dropout_rate=0.0, learning_rate=0.01;, score=0.973 total time=   9.5s\n",
      "[CV 4/5; 2/9] START dropout_rate=0.0, learning_rate=0.01........................\n",
      "[CV 4/5; 2/9] END dropout_rate=0.0, learning_rate=0.01;, score=0.959 total time=   7.8s\n",
      "[CV 5/5; 2/9] START dropout_rate=0.0, learning_rate=0.01........................\n",
      "[CV 5/5; 2/9] END dropout_rate=0.0, learning_rate=0.01;, score=0.993 total time=   7.9s\n",
      "[CV 1/5; 3/9] START dropout_rate=0.0, learning_rate=0.1.........................\n",
      "[CV 1/5; 3/9] END dropout_rate=0.0, learning_rate=0.1;, score=1.000 total time=   8.8s\n",
      "[CV 2/5; 3/9] START dropout_rate=0.0, learning_rate=0.1.........................\n",
      "[CV 2/5; 3/9] END dropout_rate=0.0, learning_rate=0.1;, score=0.952 total time=   8.9s\n",
      "[CV 3/5; 3/9] START dropout_rate=0.0, learning_rate=0.1.........................\n",
      "[CV 3/5; 3/9] END dropout_rate=0.0, learning_rate=0.1;, score=0.939 total time=  10.3s\n",
      "[CV 4/5; 3/9] START dropout_rate=0.0, learning_rate=0.1.........................\n",
      "[CV 4/5; 3/9] END dropout_rate=0.0, learning_rate=0.1;, score=0.959 total time=   7.2s\n",
      "[CV 5/5; 3/9] START dropout_rate=0.0, learning_rate=0.1.........................\n",
      "[CV 5/5; 3/9] END dropout_rate=0.0, learning_rate=0.1;, score=0.980 total time=  10.1s\n",
      "[CV 1/5; 4/9] START dropout_rate=0.1, learning_rate=0.001.......................\n",
      "[CV 1/5; 4/9] END dropout_rate=0.1, learning_rate=0.001;, score=1.000 total time=   7.4s\n",
      "[CV 2/5; 4/9] START dropout_rate=0.1, learning_rate=0.001.......................\n",
      "[CV 2/5; 4/9] END dropout_rate=0.1, learning_rate=0.001;, score=0.993 total time=  13.1s\n",
      "[CV 3/5; 4/9] START dropout_rate=0.1, learning_rate=0.001.......................\n",
      "[CV 3/5; 4/9] END dropout_rate=0.1, learning_rate=0.001;, score=0.980 total time=   9.9s\n",
      "[CV 4/5; 4/9] START dropout_rate=0.1, learning_rate=0.001.......................\n",
      "[CV 4/5; 4/9] END dropout_rate=0.1, learning_rate=0.001;, score=0.993 total time=   7.4s\n",
      "[CV 5/5; 4/9] START dropout_rate=0.1, learning_rate=0.001.......................\n",
      "[CV 5/5; 4/9] END dropout_rate=0.1, learning_rate=0.001;, score=1.000 total time=  10.0s\n",
      "[CV 1/5; 5/9] START dropout_rate=0.1, learning_rate=0.01........................\n",
      "[CV 1/5; 5/9] END dropout_rate=0.1, learning_rate=0.01;, score=1.000 total time=   9.2s\n",
      "[CV 2/5; 5/9] START dropout_rate=0.1, learning_rate=0.01........................\n",
      "[CV 2/5; 5/9] END dropout_rate=0.1, learning_rate=0.01;, score=0.946 total time=  10.4s\n",
      "[CV 3/5; 5/9] START dropout_rate=0.1, learning_rate=0.01........................\n",
      "[CV 3/5; 5/9] END dropout_rate=0.1, learning_rate=0.01;, score=0.932 total time=  11.3s\n",
      "[CV 4/5; 5/9] START dropout_rate=0.1, learning_rate=0.01........................\n",
      "[CV 4/5; 5/9] END dropout_rate=0.1, learning_rate=0.01;, score=0.980 total time=   9.1s\n",
      "[CV 5/5; 5/9] START dropout_rate=0.1, learning_rate=0.01........................\n",
      "[CV 5/5; 5/9] END dropout_rate=0.1, learning_rate=0.01;, score=1.000 total time=   9.3s\n",
      "[CV 1/5; 6/9] START dropout_rate=0.1, learning_rate=0.1.........................\n",
      "[CV 1/5; 6/9] END dropout_rate=0.1, learning_rate=0.1;, score=1.000 total time=   9.6s\n",
      "[CV 2/5; 6/9] START dropout_rate=0.1, learning_rate=0.1.........................\n",
      "[CV 2/5; 6/9] END dropout_rate=0.1, learning_rate=0.1;, score=0.946 total time=   8.9s\n",
      "[CV 3/5; 6/9] START dropout_rate=0.1, learning_rate=0.1.........................\n",
      "[CV 3/5; 6/9] END dropout_rate=0.1, learning_rate=0.1;, score=0.939 total time=  10.5s\n",
      "[CV 4/5; 6/9] START dropout_rate=0.1, learning_rate=0.1.........................\n",
      "[CV 4/5; 6/9] END dropout_rate=0.1, learning_rate=0.1;, score=0.973 total time=   8.0s\n",
      "[CV 5/5; 6/9] START dropout_rate=0.1, learning_rate=0.1.........................\n",
      "[CV 5/5; 6/9] END dropout_rate=0.1, learning_rate=0.1;, score=0.694 total time=   9.3s\n",
      "[CV 1/5; 7/9] START dropout_rate=0.2, learning_rate=0.001.......................\n",
      "[CV 1/5; 7/9] END dropout_rate=0.2, learning_rate=0.001;, score=1.000 total time=  10.4s\n",
      "[CV 2/5; 7/9] START dropout_rate=0.2, learning_rate=0.001.......................\n",
      "[CV 2/5; 7/9] END dropout_rate=0.2, learning_rate=0.001;, score=1.000 total time=  10.2s\n",
      "[CV 3/5; 7/9] START dropout_rate=0.2, learning_rate=0.001.......................\n",
      "[CV 3/5; 7/9] END dropout_rate=0.2, learning_rate=0.001;, score=0.966 total time=  10.7s\n",
      "[CV 4/5; 7/9] START dropout_rate=0.2, learning_rate=0.001.......................\n",
      "[CV 4/5; 7/9] END dropout_rate=0.2, learning_rate=0.001;, score=0.986 total time=   7.8s\n",
      "[CV 5/5; 7/9] START dropout_rate=0.2, learning_rate=0.001.......................\n",
      "[CV 5/5; 7/9] END dropout_rate=0.2, learning_rate=0.001;, score=1.000 total time=   9.0s\n",
      "[CV 1/5; 8/9] START dropout_rate=0.2, learning_rate=0.01........................\n",
      "[CV 1/5; 8/9] END dropout_rate=0.2, learning_rate=0.01;, score=0.993 total time=   8.5s\n",
      "[CV 2/5; 8/9] START dropout_rate=0.2, learning_rate=0.01........................\n",
      "[CV 2/5; 8/9] END dropout_rate=0.2, learning_rate=0.01;, score=0.959 total time=   8.8s\n",
      "[CV 3/5; 8/9] START dropout_rate=0.2, learning_rate=0.01........................\n",
      "[CV 3/5; 8/9] END dropout_rate=0.2, learning_rate=0.01;, score=0.959 total time=  10.6s\n",
      "[CV 4/5; 8/9] START dropout_rate=0.2, learning_rate=0.01........................\n",
      "[CV 4/5; 8/9] END dropout_rate=0.2, learning_rate=0.01;, score=0.980 total time=   7.9s\n",
      "[CV 5/5; 8/9] START dropout_rate=0.2, learning_rate=0.01........................\n",
      "[CV 5/5; 8/9] END dropout_rate=0.2, learning_rate=0.01;, score=1.000 total time=  10.2s\n",
      "[CV 1/5; 9/9] START dropout_rate=0.2, learning_rate=0.1.........................\n",
      "[CV 1/5; 9/9] END dropout_rate=0.2, learning_rate=0.1;, score=1.000 total time=   7.9s\n",
      "[CV 2/5; 9/9] START dropout_rate=0.2, learning_rate=0.1.........................\n",
      "[CV 2/5; 9/9] END dropout_rate=0.2, learning_rate=0.1;, score=0.925 total time=   9.9s\n",
      "[CV 3/5; 9/9] START dropout_rate=0.2, learning_rate=0.1.........................\n",
      "[CV 3/5; 9/9] END dropout_rate=0.2, learning_rate=0.1;, score=0.932 total time=   9.8s\n",
      "[CV 4/5; 9/9] START dropout_rate=0.2, learning_rate=0.1.........................\n",
      "[CV 4/5; 9/9] END dropout_rate=0.2, learning_rate=0.1;, score=0.966 total time=   8.5s\n",
      "[CV 5/5; 9/9] START dropout_rate=0.2, learning_rate=0.1.........................\n",
      "[CV 5/5; 9/9] END dropout_rate=0.2, learning_rate=0.1;, score=0.667 total time=  10.3s\n"
     ]
    }
   ],
   "source": [
    "from keras.layers import Dropout\n",
    "\n",
    "# Defining the model\n",
    "\n",
    "def create_model2(learning_rate,dropout_rate):\n",
    "    model = Sequential()\n",
    "    model.add(Dense(14,input_dim = 11,kernel_initializer = 'uniform',activation = 'relu'))\n",
    "    model.add(Dropout(dropout_rate))\n",
    "    model.add(Dense(12,input_dim = 14,kernel_initializer = 'uniform',activation = 'relu'))\n",
    "    model.add(Dropout(dropout_rate))\n",
    "    model.add(Dense(1,kernel_initializer='uniform',activation = 'sigmoid'))\n",
    "    \n",
    "    adam = Adam(lr = learning_rate)\n",
    "    model.compile(loss = 'binary_crossentropy',optimizer = adam,metrics = ['accuracy'])\n",
    "    return model\n",
    "\n",
    "# Create the model\n",
    "\n",
    "model2 = KerasClassifier(build_fn = create_model2,verbose = 0,batch_size = 20,epochs = 50)\n",
    "\n",
    "# Define the grid search parameters\n",
    "\n",
    "learning_rate = [0.001,0.01,0.1]\n",
    "dropout_rate = [0.0,0.1,0.2]\n",
    "\n",
    "# Make a dictionary of the grid search parameters\n",
    "\n",
    "param_grids2 = dict(learning_rate = learning_rate,dropout_rate = dropout_rate)\n",
    "\n",
    "# Build and fit the GridSearchCV\n",
    "\n",
    "grid2 = GridSearchCV(estimator = model2,param_grid = param_grids2,cv = KFold(),verbose = 10)\n",
    "grid_result2 = grid2.fit(X_standardized,Y)"
   ]
  },
  {
   "cell_type": "code",
   "execution_count": 27,
   "id": "fca47d4b",
   "metadata": {},
   "outputs": [
    {
     "name": "stdout",
     "output_type": "stream",
     "text": [
      "Best : 0.9931972742080688, using {'dropout_rate': 0.1, 'learning_rate': 0.001}\n",
      "0.9796010255813599,0.019722499397376216 with: {'dropout_rate': 0.0, 'learning_rate': 0.001}\n",
      "0.9741588473320008,0.016894273855066467 with: {'dropout_rate': 0.0, 'learning_rate': 0.01}\n",
      "0.9659864068031311,0.021512085181704055 with: {'dropout_rate': 0.0, 'learning_rate': 0.1}\n",
      "0.9931972742080688,0.007452004031716538 with: {'dropout_rate': 0.1, 'learning_rate': 0.001}\n",
      "0.9714285731315613,0.028015319682255048 with: {'dropout_rate': 0.1, 'learning_rate': 0.01}\n",
      "0.9102040886878967,0.11031319642831891 with: {'dropout_rate': 0.1, 'learning_rate': 0.1}\n",
      "0.9904761910438538,0.01333056345023455 with: {'dropout_rate': 0.2, 'learning_rate': 0.001}\n",
      "0.9782404899597168,0.016892053162345006 with: {'dropout_rate': 0.2, 'learning_rate': 0.01}\n",
      "0.8979591846466064,0.1186874920681535 with: {'dropout_rate': 0.2, 'learning_rate': 0.1}\n"
     ]
    }
   ],
   "source": [
    "# Summarize the results\n",
    "print('Best : {}, using {}'.format(grid_result2.best_score_,grid_result2.best_params_))\n",
    "means2 = grid_result2.cv_results_['mean_test_score']\n",
    "stds2 = grid_result2.cv_results_['std_test_score']\n",
    "params2 = grid_result2.cv_results_['params']\n",
    "for mean, stdev, param in zip(means2, stds2, params2):\n",
    "  print('{},{} with: {}'.format(mean, stdev, param))\n",
    "#Best score for Dropout rate = 0.2 and learning rate is 0.001"
   ]
  },
  {
   "cell_type": "markdown",
   "id": "eb3682e7",
   "metadata": {},
   "source": [
    "# Tuning of Hyperparameters:- Activation Function and Kernel Initializer"
   ]
  },
  {
   "cell_type": "code",
   "execution_count": 28,
   "id": "95df6edf",
   "metadata": {},
   "outputs": [
    {
     "name": "stdout",
     "output_type": "stream",
     "text": [
      "Fitting 5 folds for each of 12 candidates, totalling 60 fits\n",
      "[CV 1/5; 1/12] START activation_function=softmax, init=uniform..................\n",
      "[CV 1/5; 1/12] END activation_function=softmax, init=uniform;, score=0.007 total time=  11.8s\n",
      "[CV 2/5; 1/12] START activation_function=softmax, init=uniform..................\n",
      "[CV 2/5; 1/12] END activation_function=softmax, init=uniform;, score=0.694 total time=   8.8s\n",
      "[CV 3/5; 1/12] START activation_function=softmax, init=uniform..................\n",
      "[CV 3/5; 1/12] END activation_function=softmax, init=uniform;, score=0.422 total time=   9.1s\n",
      "[CV 4/5; 1/12] START activation_function=softmax, init=uniform..................\n",
      "[CV 4/5; 1/12] END activation_function=softmax, init=uniform;, score=0.578 total time=  10.6s\n",
      "[CV 5/5; 1/12] START activation_function=softmax, init=uniform..................\n",
      "[CV 5/5; 1/12] END activation_function=softmax, init=uniform;, score=0.136 total time=   7.9s\n",
      "[CV 1/5; 2/12] START activation_function=softmax, init=normal...................\n",
      "[CV 1/5; 2/12] END activation_function=softmax, init=normal;, score=0.000 total time=   9.9s\n",
      "[CV 2/5; 2/12] START activation_function=softmax, init=normal...................\n",
      "[CV 2/5; 2/12] END activation_function=softmax, init=normal;, score=0.694 total time=   7.2s\n",
      "[CV 3/5; 2/12] START activation_function=softmax, init=normal...................\n",
      "[CV 3/5; 2/12] END activation_function=softmax, init=normal;, score=0.401 total time=   9.7s\n",
      "[CV 4/5; 2/12] START activation_function=softmax, init=normal...................\n",
      "[CV 4/5; 2/12] END activation_function=softmax, init=normal;, score=0.599 total time=  10.3s\n",
      "[CV 5/5; 2/12] START activation_function=softmax, init=normal...................\n",
      "[CV 5/5; 2/12] END activation_function=softmax, init=normal;, score=0.054 total time=   9.1s\n",
      "[CV 1/5; 3/12] START activation_function=softmax, init=zero.....................\n",
      "[CV 1/5; 3/12] END activation_function=softmax, init=zero;, score=0.000 total time=   9.9s\n",
      "[CV 2/5; 3/12] START activation_function=softmax, init=zero.....................\n",
      "[CV 2/5; 3/12] END activation_function=softmax, init=zero;, score=0.687 total time=   8.7s\n",
      "[CV 3/5; 3/12] START activation_function=softmax, init=zero.....................\n",
      "[CV 3/5; 3/12] END activation_function=softmax, init=zero;, score=0.347 total time=   9.7s\n",
      "[CV 4/5; 3/12] START activation_function=softmax, init=zero.....................\n",
      "[CV 4/5; 3/12] END activation_function=softmax, init=zero;, score=0.565 total time=   9.4s\n",
      "[CV 5/5; 3/12] START activation_function=softmax, init=zero.....................\n",
      "[CV 5/5; 3/12] END activation_function=softmax, init=zero;, score=0.000 total time=   8.8s\n",
      "[CV 1/5; 4/12] START activation_function=relu, init=uniform.....................\n",
      "[CV 1/5; 4/12] END activation_function=relu, init=uniform;, score=1.000 total time=  10.1s\n",
      "[CV 2/5; 4/12] START activation_function=relu, init=uniform.....................\n",
      "[CV 2/5; 4/12] END activation_function=relu, init=uniform;, score=0.993 total time=   8.4s\n",
      "[CV 3/5; 4/12] START activation_function=relu, init=uniform.....................\n",
      "[CV 3/5; 4/12] END activation_function=relu, init=uniform;, score=0.966 total time=   9.6s\n",
      "[CV 4/5; 4/12] START activation_function=relu, init=uniform.....................\n",
      "[CV 4/5; 4/12] END activation_function=relu, init=uniform;, score=0.993 total time=   7.6s\n",
      "[CV 5/5; 4/12] START activation_function=relu, init=uniform.....................\n",
      "[CV 5/5; 4/12] END activation_function=relu, init=uniform;, score=1.000 total time=   9.5s\n",
      "[CV 1/5; 5/12] START activation_function=relu, init=normal......................\n",
      "[CV 1/5; 5/12] END activation_function=relu, init=normal;, score=1.000 total time=   9.1s\n",
      "[CV 2/5; 5/12] START activation_function=relu, init=normal......................\n",
      "[CV 2/5; 5/12] END activation_function=relu, init=normal;, score=1.000 total time=   9.2s\n",
      "[CV 3/5; 5/12] START activation_function=relu, init=normal......................\n",
      "[CV 3/5; 5/12] END activation_function=relu, init=normal;, score=0.952 total time=  10.4s\n",
      "[CV 4/5; 5/12] START activation_function=relu, init=normal......................\n",
      "[CV 4/5; 5/12] END activation_function=relu, init=normal;, score=0.973 total time=   8.7s\n",
      "[CV 5/5; 5/12] START activation_function=relu, init=normal......................\n",
      "[CV 5/5; 5/12] END activation_function=relu, init=normal;, score=0.993 total time=   9.5s\n",
      "[CV 1/5; 6/12] START activation_function=relu, init=zero........................\n",
      "[CV 1/5; 6/12] END activation_function=relu, init=zero;, score=0.000 total time=   9.3s\n",
      "[CV 2/5; 6/12] START activation_function=relu, init=zero........................\n",
      "[CV 2/5; 6/12] END activation_function=relu, init=zero;, score=0.497 total time=   8.6s\n",
      "[CV 3/5; 6/12] START activation_function=relu, init=zero........................\n",
      "[CV 3/5; 6/12] END activation_function=relu, init=zero;, score=0.265 total time=  11.1s\n",
      "[CV 4/5; 6/12] START activation_function=relu, init=zero........................\n",
      "[CV 4/5; 6/12] END activation_function=relu, init=zero;, score=0.259 total time=   7.4s\n",
      "[CV 5/5; 6/12] START activation_function=relu, init=zero........................\n",
      "[CV 5/5; 6/12] END activation_function=relu, init=zero;, score=0.000 total time=  10.0s\n",
      "[CV 1/5; 7/12] START activation_function=tanh, init=uniform.....................\n",
      "[CV 1/5; 7/12] END activation_function=tanh, init=uniform;, score=1.000 total time=   7.4s\n",
      "[CV 2/5; 7/12] START activation_function=tanh, init=uniform.....................\n",
      "[CV 2/5; 7/12] END activation_function=tanh, init=uniform;, score=0.980 total time=   9.6s\n",
      "[CV 3/5; 7/12] START activation_function=tanh, init=uniform.....................\n",
      "[CV 3/5; 7/12] END activation_function=tanh, init=uniform;, score=0.980 total time=   9.1s\n",
      "[CV 4/5; 7/12] START activation_function=tanh, init=uniform.....................\n",
      "[CV 4/5; 7/12] END activation_function=tanh, init=uniform;, score=0.986 total time=   9.0s\n",
      "[CV 5/5; 7/12] START activation_function=tanh, init=uniform.....................\n",
      "[CV 5/5; 7/12] END activation_function=tanh, init=uniform;, score=1.000 total time=  11.1s\n",
      "[CV 1/5; 8/12] START activation_function=tanh, init=normal......................\n",
      "[CV 1/5; 8/12] END activation_function=tanh, init=normal;, score=1.000 total time=   9.1s\n",
      "[CV 2/5; 8/12] START activation_function=tanh, init=normal......................\n",
      "[CV 2/5; 8/12] END activation_function=tanh, init=normal;, score=0.986 total time=   9.9s\n",
      "[CV 3/5; 8/12] START activation_function=tanh, init=normal......................\n",
      "[CV 3/5; 8/12] END activation_function=tanh, init=normal;, score=0.973 total time=  10.1s\n",
      "[CV 4/5; 8/12] START activation_function=tanh, init=normal......................\n",
      "[CV 4/5; 8/12] END activation_function=tanh, init=normal;, score=0.993 total time=   9.1s\n",
      "[CV 5/5; 8/12] START activation_function=tanh, init=normal......................\n",
      "[CV 5/5; 8/12] END activation_function=tanh, init=normal;, score=1.000 total time=  11.8s\n",
      "[CV 1/5; 9/12] START activation_function=tanh, init=zero........................\n",
      "[CV 1/5; 9/12] END activation_function=tanh, init=zero;, score=0.000 total time=  11.4s\n",
      "[CV 2/5; 9/12] START activation_function=tanh, init=zero........................\n",
      "[CV 2/5; 9/12] END activation_function=tanh, init=zero;, score=0.497 total time=   8.3s\n",
      "[CV 3/5; 9/12] START activation_function=tanh, init=zero........................\n",
      "[CV 3/5; 9/12] END activation_function=tanh, init=zero;, score=0.265 total time=  10.5s\n",
      "[CV 4/5; 9/12] START activation_function=tanh, init=zero........................\n",
      "[CV 4/5; 9/12] END activation_function=tanh, init=zero;, score=0.259 total time=   9.0s\n",
      "[CV 5/5; 9/12] START activation_function=tanh, init=zero........................\n",
      "[CV 5/5; 9/12] END activation_function=tanh, init=zero;, score=0.000 total time=   9.4s\n",
      "[CV 1/5; 10/12] START activation_function=linear, init=uniform..................\n",
      "[CV 1/5; 10/12] END activation_function=linear, init=uniform;, score=1.000 total time=   8.9s\n",
      "[CV 2/5; 10/12] START activation_function=linear, init=uniform..................\n",
      "[CV 2/5; 10/12] END activation_function=linear, init=uniform;, score=0.980 total time=   7.6s\n",
      "[CV 3/5; 10/12] START activation_function=linear, init=uniform..................\n",
      "[CV 3/5; 10/12] END activation_function=linear, init=uniform;, score=0.980 total time=  10.0s\n",
      "[CV 4/5; 10/12] START activation_function=linear, init=uniform..................\n",
      "[CV 4/5; 10/12] END activation_function=linear, init=uniform;, score=0.986 total time=   7.8s\n",
      "[CV 5/5; 10/12] START activation_function=linear, init=uniform..................\n",
      "[CV 5/5; 10/12] END activation_function=linear, init=uniform;, score=1.000 total time=  10.3s\n",
      "[CV 1/5; 11/12] START activation_function=linear, init=normal...................\n",
      "[CV 1/5; 11/12] END activation_function=linear, init=normal;, score=1.000 total time=   7.2s\n",
      "[CV 2/5; 11/12] START activation_function=linear, init=normal...................\n",
      "[CV 2/5; 11/12] END activation_function=linear, init=normal;, score=0.986 total time=  10.0s\n",
      "[CV 3/5; 11/12] START activation_function=linear, init=normal...................\n",
      "[CV 3/5; 11/12] END activation_function=linear, init=normal;, score=0.980 total time=   7.8s\n",
      "[CV 4/5; 11/12] START activation_function=linear, init=normal...................\n",
      "[CV 4/5; 11/12] END activation_function=linear, init=normal;, score=0.986 total time=   8.8s\n",
      "[CV 5/5; 11/12] START activation_function=linear, init=normal...................\n",
      "[CV 5/5; 11/12] END activation_function=linear, init=normal;, score=1.000 total time=  10.4s\n",
      "[CV 1/5; 12/12] START activation_function=linear, init=zero.....................\n",
      "[CV 1/5; 12/12] END activation_function=linear, init=zero;, score=0.000 total time=  10.2s\n",
      "[CV 2/5; 12/12] START activation_function=linear, init=zero.....................\n",
      "[CV 2/5; 12/12] END activation_function=linear, init=zero;, score=0.497 total time=  11.7s\n",
      "[CV 3/5; 12/12] START activation_function=linear, init=zero.....................\n",
      "[CV 3/5; 12/12] END activation_function=linear, init=zero;, score=0.265 total time=  10.3s\n",
      "[CV 4/5; 12/12] START activation_function=linear, init=zero.....................\n",
      "[CV 4/5; 12/12] END activation_function=linear, init=zero;, score=0.259 total time=   8.5s\n",
      "[CV 5/5; 12/12] START activation_function=linear, init=zero.....................\n",
      "[CV 5/5; 12/12] END activation_function=linear, init=zero;, score=0.000 total time=  10.2s\n"
     ]
    }
   ],
   "source": [
    "# Defining the model\n",
    "\n",
    "def create_model3(activation_function,init):\n",
    "    model = Sequential()\n",
    "    model.add(Dense(14,input_dim = 11,kernel_initializer = init,activation = activation_function))\n",
    "    model.add(Dropout(0.2))\n",
    "    model.add(Dense(12,input_dim = 14,kernel_initializer = init,activation = activation_function))\n",
    "    model.add(Dropout(0.2))\n",
    "    model.add(Dense(1,activation = 'sigmoid'))\n",
    "    \n",
    "    adam = Adam(lr = 0.001)\n",
    "    model.compile(loss = 'binary_crossentropy',optimizer = adam,metrics = ['accuracy'])\n",
    "    return model\n",
    "\n",
    "# Create the model\n",
    "\n",
    "model3 = KerasClassifier(build_fn = create_model3,verbose = 0,batch_size = 20,epochs = 50)\n",
    "\n",
    "# Define the grid search parameters\n",
    "activation_function = ['softmax','relu','tanh','linear']\n",
    "init = ['uniform','normal','zero']\n",
    "\n",
    "# Make a dictionary of the grid search parameters\n",
    "param_grids3 = dict(activation_function = activation_function,init = init)\n",
    "\n",
    "# Build and fit the GridSearchCV\n",
    "\n",
    "grid3 = GridSearchCV(estimator = model3,param_grid = param_grids3,cv = KFold(),verbose = 10)\n",
    "grid_result3 = grid3.fit(X_standardized,Y)"
   ]
  },
  {
   "cell_type": "code",
   "execution_count": 29,
   "id": "f0142858",
   "metadata": {},
   "outputs": [
    {
     "name": "stdout",
     "output_type": "stream",
     "text": [
      "Best : 0.9904762029647827, using {'activation_function': 'linear', 'init': 'normal'}\n",
      "0.36733774626627563,0.2598375239130732 with: {'activation_function': 'softmax', 'init': 'uniform'}\n",
      "0.349659863114357,0.2802060571088914 with: {'activation_function': 'softmax', 'init': 'normal'}\n",
      "0.31972789764404297,0.28288198153256744 with: {'activation_function': 'softmax', 'init': 'zero'}\n",
      "0.9904761791229248,0.012617175716395526 with: {'activation_function': 'relu', 'init': 'uniform'}\n",
      "0.9836734652519226,0.018555347392400393 with: {'activation_function': 'relu', 'init': 'normal'}\n",
      "0.20408163070678711,0.18738996066216024 with: {'activation_function': 'relu', 'init': 'zero'}\n",
      "0.9891156554222107,0.009227654269135622 with: {'activation_function': 'tanh', 'init': 'uniform'}\n",
      "0.9904761910438538,0.010181380037435227 with: {'activation_function': 'tanh', 'init': 'normal'}\n",
      "0.20408163070678711,0.18738996066216024 with: {'activation_function': 'tanh', 'init': 'zero'}\n",
      "0.9891156554222107,0.009227654269135622 with: {'activation_function': 'linear', 'init': 'uniform'}\n",
      "0.9904762029647827,0.00816325743993607 with: {'activation_function': 'linear', 'init': 'normal'}\n",
      "0.20408163070678711,0.18738996066216024 with: {'activation_function': 'linear', 'init': 'zero'}\n"
     ]
    }
   ],
   "source": [
    "# Summarize the results\n",
    "print('Best : {}, using {}'.format(grid_result3.best_score_,grid_result3.best_params_))\n",
    "means3 = grid_result3.cv_results_['mean_test_score']\n",
    "stds3 = grid_result3.cv_results_['std_test_score']\n",
    "params3 = grid_result3.cv_results_['params']\n",
    "for mean, stdev, param in zip(means3, stds3, params3):\n",
    "  print('{},{} with: {}'.format(mean, stdev, param))\n",
    "#best activation function in our case would be Relu and Kernel Initializer is Uniform"
   ]
  },
  {
   "cell_type": "markdown",
   "id": "e4d1bdd0",
   "metadata": {},
   "source": [
    "# Tuning of Hyperparameter :-Number of Neurons in activation layer"
   ]
  },
  {
   "cell_type": "code",
   "execution_count": 30,
   "id": "c39d64e5",
   "metadata": {},
   "outputs": [
    {
     "name": "stdout",
     "output_type": "stream",
     "text": [
      "Fitting 5 folds for each of 9 candidates, totalling 45 fits\n",
      "[CV 1/5; 1/9] START neuron1=4, neuron2=4........................................\n",
      "[CV 1/5; 1/9] END .........neuron1=4, neuron2=4;, score=1.000 total time=   9.7s\n",
      "[CV 2/5; 1/9] START neuron1=4, neuron2=4........................................\n",
      "[CV 2/5; 1/9] END .........neuron1=4, neuron2=4;, score=0.986 total time=   9.3s\n",
      "[CV 3/5; 1/9] START neuron1=4, neuron2=4........................................\n",
      "[CV 3/5; 1/9] END .........neuron1=4, neuron2=4;, score=0.966 total time=   9.8s\n",
      "[CV 4/5; 1/9] START neuron1=4, neuron2=4........................................\n",
      "[CV 4/5; 1/9] END .........neuron1=4, neuron2=4;, score=0.905 total time=   9.0s\n",
      "[CV 5/5; 1/9] START neuron1=4, neuron2=4........................................\n",
      "[CV 5/5; 1/9] END .........neuron1=4, neuron2=4;, score=0.823 total time=  10.1s\n",
      "[CV 1/5; 2/9] START neuron1=4, neuron2=8........................................\n",
      "[CV 1/5; 2/9] END .........neuron1=4, neuron2=8;, score=0.993 total time=   9.3s\n",
      "[CV 2/5; 2/9] START neuron1=4, neuron2=8........................................\n",
      "[CV 2/5; 2/9] END .........neuron1=4, neuron2=8;, score=0.993 total time=   9.1s\n",
      "[CV 3/5; 2/9] START neuron1=4, neuron2=8........................................\n",
      "[CV 3/5; 2/9] END .........neuron1=4, neuron2=8;, score=0.973 total time=   9.9s\n",
      "[CV 4/5; 2/9] START neuron1=4, neuron2=8........................................\n",
      "[CV 4/5; 2/9] END .........neuron1=4, neuron2=8;, score=0.980 total time=   8.1s\n",
      "[CV 5/5; 2/9] START neuron1=4, neuron2=8........................................\n",
      "[CV 5/5; 2/9] END .........neuron1=4, neuron2=8;, score=0.946 total time=  12.2s\n",
      "[CV 1/5; 3/9] START neuron1=4, neuron2=12.......................................\n",
      "[CV 1/5; 3/9] END ........neuron1=4, neuron2=12;, score=0.993 total time=   9.6s\n",
      "[CV 2/5; 3/9] START neuron1=4, neuron2=12.......................................\n",
      "[CV 2/5; 3/9] END ........neuron1=4, neuron2=12;, score=0.986 total time=   8.2s\n",
      "[CV 3/5; 3/9] START neuron1=4, neuron2=12.......................................\n",
      "[CV 3/5; 3/9] END ........neuron1=4, neuron2=12;, score=0.925 total time=  10.3s\n",
      "[CV 4/5; 3/9] START neuron1=4, neuron2=12.......................................\n",
      "[CV 4/5; 3/9] END ........neuron1=4, neuron2=12;, score=0.973 total time=   7.6s\n",
      "[CV 5/5; 3/9] START neuron1=4, neuron2=12.......................................\n",
      "[CV 5/5; 3/9] END ........neuron1=4, neuron2=12;, score=0.966 total time=  10.8s\n",
      "[CV 1/5; 4/9] START neuron1=8, neuron2=4........................................\n",
      "[CV 1/5; 4/9] END .........neuron1=8, neuron2=4;, score=1.000 total time=   7.2s\n",
      "[CV 2/5; 4/9] START neuron1=8, neuron2=4........................................\n",
      "[CV 2/5; 4/9] END .........neuron1=8, neuron2=4;, score=0.980 total time=   9.8s\n",
      "[CV 3/5; 4/9] START neuron1=8, neuron2=4........................................\n",
      "[CV 3/5; 4/9] END .........neuron1=8, neuron2=4;, score=0.973 total time=   8.9s\n",
      "[CV 4/5; 4/9] START neuron1=8, neuron2=4........................................\n",
      "[CV 4/5; 4/9] END .........neuron1=8, neuron2=4;, score=0.973 total time=  10.1s\n",
      "[CV 5/5; 4/9] START neuron1=8, neuron2=4........................................\n",
      "[CV 5/5; 4/9] END .........neuron1=8, neuron2=4;, score=0.952 total time=  10.3s\n",
      "[CV 1/5; 5/9] START neuron1=8, neuron2=8........................................\n",
      "[CV 1/5; 5/9] END .........neuron1=8, neuron2=8;, score=0.993 total time=   9.0s\n",
      "[CV 2/5; 5/9] START neuron1=8, neuron2=8........................................\n",
      "[CV 2/5; 5/9] END .........neuron1=8, neuron2=8;, score=0.986 total time=   9.3s\n",
      "[CV 3/5; 5/9] START neuron1=8, neuron2=8........................................\n",
      "[CV 3/5; 5/9] END .........neuron1=8, neuron2=8;, score=0.959 total time=   8.4s\n",
      "[CV 4/5; 5/9] START neuron1=8, neuron2=8........................................\n",
      "[CV 4/5; 5/9] END .........neuron1=8, neuron2=8;, score=0.980 total time=   9.1s\n",
      "[CV 5/5; 5/9] START neuron1=8, neuron2=8........................................\n",
      "[CV 5/5; 5/9] END .........neuron1=8, neuron2=8;, score=0.993 total time=   9.5s\n",
      "[CV 1/5; 6/9] START neuron1=8, neuron2=12.......................................\n",
      "[CV 1/5; 6/9] END ........neuron1=8, neuron2=12;, score=1.000 total time=   8.5s\n",
      "[CV 2/5; 6/9] START neuron1=8, neuron2=12.......................................\n",
      "[CV 2/5; 6/9] END ........neuron1=8, neuron2=12;, score=0.973 total time=  10.2s\n",
      "[CV 3/5; 6/9] START neuron1=8, neuron2=12.......................................\n",
      "[CV 3/5; 6/9] END ........neuron1=8, neuron2=12;, score=0.959 total time=   8.4s\n",
      "[CV 4/5; 6/9] START neuron1=8, neuron2=12.......................................\n",
      "[CV 4/5; 6/9] END ........neuron1=8, neuron2=12;, score=0.993 total time=   9.2s\n",
      "[CV 5/5; 6/9] START neuron1=8, neuron2=12.......................................\n",
      "[CV 5/5; 6/9] END ........neuron1=8, neuron2=12;, score=0.986 total time=   9.0s\n",
      "[CV 1/5; 7/9] START neuron1=14, neuron2=4.......................................\n",
      "[CV 1/5; 7/9] END ........neuron1=14, neuron2=4;, score=0.993 total time=   9.9s\n",
      "[CV 2/5; 7/9] START neuron1=14, neuron2=4.......................................\n",
      "[CV 2/5; 7/9] END ........neuron1=14, neuron2=4;, score=0.993 total time=  10.7s\n",
      "[CV 3/5; 7/9] START neuron1=14, neuron2=4.......................................\n",
      "[CV 3/5; 7/9] END ........neuron1=14, neuron2=4;, score=0.952 total time=  10.0s\n",
      "[CV 4/5; 7/9] START neuron1=14, neuron2=4.......................................\n",
      "[CV 4/5; 7/9] END ........neuron1=14, neuron2=4;, score=0.986 total time=   8.9s\n",
      "[CV 5/5; 7/9] START neuron1=14, neuron2=4.......................................\n",
      "[CV 5/5; 7/9] END ........neuron1=14, neuron2=4;, score=0.980 total time=   8.9s\n",
      "[CV 1/5; 8/9] START neuron1=14, neuron2=8.......................................\n",
      "[CV 1/5; 8/9] END ........neuron1=14, neuron2=8;, score=1.000 total time=   8.6s\n",
      "[CV 2/5; 8/9] START neuron1=14, neuron2=8.......................................\n",
      "[CV 2/5; 8/9] END ........neuron1=14, neuron2=8;, score=0.993 total time=  10.5s\n",
      "[CV 3/5; 8/9] START neuron1=14, neuron2=8.......................................\n",
      "[CV 3/5; 8/9] END ........neuron1=14, neuron2=8;, score=0.959 total time=   8.0s\n",
      "[CV 4/5; 8/9] START neuron1=14, neuron2=8.......................................\n",
      "[CV 4/5; 8/9] END ........neuron1=14, neuron2=8;, score=0.993 total time=   9.7s\n",
      "[CV 5/5; 8/9] START neuron1=14, neuron2=8.......................................\n",
      "[CV 5/5; 8/9] END ........neuron1=14, neuron2=8;, score=1.000 total time=   7.4s\n",
      "[CV 1/5; 9/9] START neuron1=14, neuron2=12......................................\n",
      "[CV 1/5; 9/9] END .......neuron1=14, neuron2=12;, score=1.000 total time=   9.3s\n",
      "[CV 2/5; 9/9] START neuron1=14, neuron2=12......................................\n",
      "[CV 2/5; 9/9] END .......neuron1=14, neuron2=12;, score=1.000 total time=   7.9s\n",
      "[CV 3/5; 9/9] START neuron1=14, neuron2=12......................................\n",
      "[CV 3/5; 9/9] END .......neuron1=14, neuron2=12;, score=0.966 total time=   8.4s\n",
      "[CV 4/5; 9/9] START neuron1=14, neuron2=12......................................\n",
      "[CV 4/5; 9/9] END .......neuron1=14, neuron2=12;, score=0.980 total time=  10.3s\n",
      "[CV 5/5; 9/9] START neuron1=14, neuron2=12......................................\n",
      "[CV 5/5; 9/9] END .......neuron1=14, neuron2=12;, score=0.973 total time=  12.4s\n"
     ]
    }
   ],
   "source": [
    "# Defining the model\n",
    "\n",
    "def create_model4(neuron1,neuron2):\n",
    "    model = Sequential()\n",
    "    model.add(Dense(neuron1,input_dim = 11,kernel_initializer = 'uniform',activation = 'relu'))\n",
    "    model.add(Dropout(0.2))\n",
    "    model.add(Dense(neuron2,input_dim = neuron1,kernel_initializer = 'uniform',activation = 'relu'))\n",
    "    model.add(Dropout(0.2))\n",
    "    model.add(Dense(1,activation = 'sigmoid'))\n",
    "    \n",
    "    adam = Adam(lr = 0.001)\n",
    "    model.compile(loss = 'binary_crossentropy',optimizer = adam,metrics = ['accuracy'])\n",
    "    return model\n",
    "\n",
    "# Create the model\n",
    "\n",
    "model4 = KerasClassifier(build_fn = create_model4,verbose = 0,batch_size = 20,epochs = 50)\n",
    "\n",
    "# Define the grid search parameters\n",
    "\n",
    "neuron1 = [4,8,14]\n",
    "neuron2 = [4,8,12]\n",
    "\n",
    "# Make a dictionary of the grid search parameters\n",
    "\n",
    "param_grids4 = dict(neuron1 = neuron1,neuron2 = neuron2)\n",
    "\n",
    "# Build and fit the GridSearchCV\n",
    "\n",
    "grid4 = GridSearchCV(estimator = model4,param_grid = param_grids4,cv = KFold(),verbose = 10)\n",
    "grid_result4 = grid4.fit(X_standardized,Y)"
   ]
  },
  {
   "cell_type": "code",
   "execution_count": 31,
   "id": "1e267e01",
   "metadata": {},
   "outputs": [
    {
     "name": "stdout",
     "output_type": "stream",
     "text": [
      "Best : 0.9891156435012818, using {'neuron1': 14, 'neuron2': 8}\n",
      "0.9360544204711914,0.06519265173712377 with: {'neuron1': 4, 'neuron2': 4}\n",
      "0.9768799304962158,0.017537953268049862 with: {'neuron1': 4, 'neuron2': 8}\n",
      "0.9687166690826416,0.02380926864376413 with: {'neuron1': 4, 'neuron2': 12}\n",
      "0.9755102038383484,0.015272071118139937 with: {'neuron1': 8, 'neuron2': 4}\n",
      "0.9823221206665039,0.012625096078135254 with: {'neuron1': 8, 'neuron2': 8}\n",
      "0.9823129296302795,0.014653503429834151 with: {'neuron1': 8, 'neuron2': 12}\n",
      "0.9809615731239318,0.015157812224411201 with: {'neuron1': 14, 'neuron2': 4}\n",
      "0.9891156435012818,0.015272061560134765 with: {'neuron1': 14, 'neuron2': 8}\n",
      "0.9836734652519226,0.014007666498841746 with: {'neuron1': 14, 'neuron2': 12}\n"
     ]
    }
   ],
   "source": [
    "# Summarize the results\n",
    "print('Best : {}, using {}'.format(grid_result4.best_score_,grid_result4.best_params_))\n",
    "means4 = grid_result4.cv_results_['mean_test_score']\n",
    "stds4 = grid_result4.cv_results_['std_test_score']\n",
    "params4 = grid_result4.cv_results_['params']\n",
    "for mean, stdev, param in zip(means4, stds4, params4):\n",
    "  print('{},{} with: {}'.format(mean, stdev, param))\n",
    "\n",
    "#Best results are Neuron 1 = 4 and Neuron 2 = 4"
   ]
  },
  {
   "cell_type": "markdown",
   "id": "bd56203c",
   "metadata": {},
   "source": [
    "# Hyperparameters all at once"
   ]
  },
  {
   "cell_type": "markdown",
   "id": "317eefa2",
   "metadata": {},
   "source": [
    "- The hyperparameter optimization was carried out by taking 2 hyperparameters at once. We may have missed the best values. The performance can be further improved by finding the optimum values of hyperparameters all at once given by the code snippet below."
   ]
  },
  {
   "cell_type": "markdown",
   "id": "fb857dab",
   "metadata": {},
   "source": [
    "# This process is computationally expensive."
   ]
  },
  {
   "cell_type": "code",
   "execution_count": 32,
   "id": "ec4bc3dd",
   "metadata": {},
   "outputs": [],
   "source": [
    "# Defining the model\n",
    "\n",
    "def create_model_fnl():\n",
    "    model = Sequential()\n",
    "    model.add(Dense(4,input_dim = 11,kernel_initializer = 'uniform',activation = 'relu'))\n",
    "    model.add(Dropout(0.2))\n",
    "    model.add(Dense(4,input_dim = 4,kernel_initializer = 'uniform',activation = 'relu'))\n",
    "    model.add(Dropout(0.2))\n",
    "    model.add(Dense(1,activation = 'sigmoid'))\n",
    "    \n",
    "    adam = Adam(lr = 0.001) #sgd = SGD(lr=learning_rate, momentum=momentum, decay=decay_rate, nesterov=False)\n",
    "    model.compile(loss = 'binary_crossentropy',optimizer = adam,metrics = ['accuracy'])\n",
    "    return model\n",
    "\n",
    "# Create the model\n",
    "model_fnl = KerasClassifier(build_fn = create_model_fnl,verbose = 0,batch_size = 20,epochs = 50)\n",
    "#Making training and Testing Data\n",
    "X_train_1, X_test_1, y_train_1, y_test_1 = train_test_split(X_standardized,Y, test_size = 0.3)\n",
    "# Fitting the model\n",
    "hist2 = model_fnl.fit(X_train_1,y_train_1)"
   ]
  },
  {
   "cell_type": "code",
   "execution_count": 33,
   "id": "3d333513",
   "metadata": {},
   "outputs": [
    {
     "name": "stdout",
     "output_type": "stream",
     "text": [
      "7/7 [==============================] - 0s 3ms/step\n",
      "[[111   6]\n",
      " [  1 103]]\n",
      "              precision    recall  f1-score   support\n",
      "\n",
      "           0       0.99      0.95      0.97       117\n",
      "           1       0.94      0.99      0.97       104\n",
      "\n",
      "    accuracy                           0.97       221\n",
      "   macro avg       0.97      0.97      0.97       221\n",
      "weighted avg       0.97      0.97      0.97       221\n",
      "\n"
     ]
    }
   ],
   "source": [
    "from sklearn.metrics import confusion_matrix,classification_report,plot_confusion_matrix\n",
    "def report_model(model):\n",
    "    model_preds = model.predict(X_test_1)\n",
    "    print(confusion_matrix(y_test_1,model_preds))\n",
    "    print(classification_report(y_test_1,model_preds))\n",
    "report_model(model_fnl)"
   ]
  },
  {
   "cell_type": "code",
   "execution_count": null,
   "id": "fd62a80e",
   "metadata": {},
   "outputs": [],
   "source": []
  }
 ],
 "metadata": {
  "kernelspec": {
   "display_name": "Python 3 (ipykernel)",
   "language": "python",
   "name": "python3"
  },
  "language_info": {
   "codemirror_mode": {
    "name": "ipython",
    "version": 3
   },
   "file_extension": ".py",
   "mimetype": "text/x-python",
   "name": "python",
   "nbconvert_exporter": "python",
   "pygments_lexer": "ipython3",
   "version": "3.10.8"
  }
 },
 "nbformat": 4,
 "nbformat_minor": 5
}
